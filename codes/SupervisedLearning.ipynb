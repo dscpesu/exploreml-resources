{
  "nbformat": 4,
  "nbformat_minor": 0,
  "metadata": {
    "colab": {
      "name": "SupervisedLearning.ipynb",
      "provenance": [],
      "collapsed_sections": [],
      "authorship_tag": "ABX9TyOyYIaMJD8/GMo1VHZucy5f",
      "include_colab_link": true
    },
    "kernelspec": {
      "name": "python3",
      "display_name": "Python 3"
    }
  },
  "cells": [
    {
      "cell_type": "markdown",
      "metadata": {
        "id": "view-in-github",
        "colab_type": "text"
      },
      "source": [
        "<a href=\"https://colab.research.google.com/github/dscpesu/exploreml-resources/blob/master/codes/SupervisedLearning.ipynb\" target=\"_parent\"><img src=\"https://colab.research.google.com/assets/colab-badge.svg\" alt=\"Open In Colab\"/></a>"
      ]
    },
    {
      "cell_type": "markdown",
      "metadata": {
        "id": "dEd5QVwCg4ik",
        "colab_type": "text"
      },
      "source": [
        "Linear regression is a statistical approach for modelling relationship between a dependent variable with a given set of independent variables.\n",
        "\n",
        "**Linear Regression Theory**\n",
        "\n",
        "The term “linearity” in algebra refers to a linear relationship between two or more variables. If we draw this relationship in a two-dimensional space (between two variables), we get a straight line.\n",
        "Linear regression performs the task to predict a dependent variable value (y) based on a given independent variable (x). So, this regression technique finds out a linear relationship between x (input) and y(output). Hence, the name is Linear Regression. If we plot the independent variable (x) on the x-axis and dependent variable (y) on the y-axis, linear regression gives us a straight line that best fits the data points, as shown in the figure below.\n",
        "\n",
        "![alt LR](https://pythonprogramming.net/static/images/machine-learning/linear-regression-algorithm-tutorial-test.png)\n",
        "\n",
        "The equation of the above line is :\n",
        "Y= mx + b\n",
        "\n",
        "Where b is the intercept and m is the slope of the line. So basically, the linear regression algorithm gives us the most optimal value for the intercept and the slope (in two dimensions). The y and x variables remain the same, since they are the data features and cannot be changed. The values that we can control are the intercept(b) and slope(m). There can be multiple straight lines depending upon the values of intercept and slope. Basically what the linear regression algorithm does is it fits multiple lines on the data points and returns the line that results in the least error.\n",
        "This same concept can be extended to cases where there are more than two variables. This is called multiple linear regression. For instance, consider a scenario where you have to predict the price of the house based upon its area, number of bedrooms, the average income of the people in the area, the age of the house, and so on. In this case, the dependent variable(target variable) is dependent upon several independent variables. A regression model involving multiple variables can be represented as:\n",
        "\n",
        "y = b0 + m1b1 + m2b2 + m3b3 + … … mnbn\n",
        "\n",
        "This is the equation of a hyperplane. Remember, a linear regression model in two dimensions is a straight line; in three dimensions it is a plane, and in more than three dimensions, a hyperplane."
      ]
    },
    {
      "cell_type": "code",
      "metadata": {
        "id": "Y-tjNflfg5Fd",
        "colab_type": "code",
        "outputId": "3b2b62a6-cf09-4b9e-c4e3-7cde955cd236",
        "colab": {
          "base_uri": "https://localhost:8080/",
          "height": 313
        }
      },
      "source": [
        "import numpy as np \n",
        "import matplotlib.pyplot as plt \n",
        "  \n",
        "def estimate_coef(x, y): \n",
        "    # number of observations/points \n",
        "    n = np.size(x) \n",
        "  \n",
        "    # mean of x and y vector \n",
        "    m_x, m_y = np.mean(x), np.mean(y) \n",
        "  \n",
        "    # calculating cross-deviation and deviation about x \n",
        "    SS_xy = np.sum(y*x) - n*m_y*m_x \n",
        "    SS_xx = np.sum(x*x) - n*m_x*m_x \n",
        "  \n",
        "    # calculating regression coefficients \n",
        "    b_1 = SS_xy / SS_xx \n",
        "    b_0 = m_y - b_1*m_x \n",
        "  \n",
        "    return(b_0, b_1) \n",
        "  \n",
        "def plot_regression_line(x, y, b): \n",
        "    # plotting the actual points as scatter plot \n",
        "    plt.scatter(x, y, color = \"m\", \n",
        "               marker = \"o\", s = 30) \n",
        "  \n",
        "    # predicted response vector \n",
        "    y_pred = b[0] + b[1]*x \n",
        "  \n",
        "    # plotting the regression line \n",
        "    plt.plot(x, y_pred, color = \"g\") \n",
        "  \n",
        "    # putting labels \n",
        "    plt.xlabel('x') \n",
        "    plt.ylabel('y') \n",
        "  \n",
        "    # function to show plot \n",
        "    plt.show() \n",
        "  \n",
        "def main(): \n",
        "    # observations \n",
        "    x = np.array([0, 1, 2, 3, 4, 5, 6, 7, 8, 9]) \n",
        "    y = np.array([1, 3, 2, 5, 7, 8, 8, 9, 10, 12]) \n",
        "  \n",
        "    # estimating coefficients \n",
        "    b = estimate_coef(x, y) \n",
        "    print(\"Estimated coefficients:\\nb_0 = {}nb_1 = {}\".format(b[0], b[1])) \n",
        "  \n",
        "    # plotting regression line \n",
        "    plot_regression_line(x, y, b) \n",
        "  \n",
        "if __name__ == \"__main__\": \n",
        "    main() "
      ],
      "execution_count": 0,
      "outputs": [
        {
          "output_type": "stream",
          "text": [
            "Estimated coefficients:\n",
            "b_0 = 1.2363636363636363nb_1 = 1.1696969696969697\n"
          ],
          "name": "stdout"
        },
        {
          "output_type": "display_data",
          "data": {
            "image/png": "[encoded data removed]",
            "text/plain": [
              "<Figure size 432x288 with 1 Axes>"
            ]
          },
          "metadata": {
            "tags": []
          }
        }
      ]
    },
    {
      "cell_type": "markdown",
      "metadata": {
        "id": "2rxVxAstibKE",
        "colab_type": "text"
      },
      "source": [
        "Decision Tree is a decision-making tool that uses a flowchart-like tree structure or is a model of decisions and all of their possible results, including outcomes, input costs and utility.\n",
        "\n",
        "Decision-tree algorithm falls under the category of supervised learning algorithms. It works for both continuous as well as categorical output variables.\n",
        "\n",
        "1. Conditions [Decision Nodes]\n",
        "2. Result [End Nodes]\n",
        "\n",
        "![alt ID3](https://nullpointerexception1.files.wordpress.com/2017/11/decision-tree-e1513448957591.jpg?w=1400&h=9999)\n",
        "\n"
      ]
    },
    {
      "cell_type": "code",
      "metadata": {
        "id": "8zc5358Ei_gQ",
        "colab_type": "code",
        "outputId": "226a0a29-2e09-4fe8-d980-4cf97ec3fafb",
        "colab": {
          "base_uri": "https://localhost:8080/",
          "height": 295
        }
      },
      "source": [
        "# import numpy package for arrays and stuff \n",
        "import numpy as np \n",
        "\n",
        "# import matplotlib.pyplot for plotting our result \n",
        "import matplotlib.pyplot as plt \n",
        "\n",
        "# import pandas for importing csv files \n",
        "import pandas as pd \n",
        "\n",
        "# import dataset \n",
        "# dataset = pd.read_csv('Data.csv') \n",
        "# alternatively open up .csv file to read data \n",
        "\n",
        "dataset = np.array( \n",
        "[['Asset Flip', 100, 1000], \n",
        "['Text Based', 500, 3000], \n",
        "['Visual Novel', 1500, 5000], \n",
        "['2D Pixel Art', 3500, 8000], \n",
        "['2D Vector Art', 5000, 6500], \n",
        "['Strategy', 6000, 7000], \n",
        "['First Person Shooter', 8000, 15000], \n",
        "['Simulator', 9500, 20000], \n",
        "['Racing', 12000, 21000], \n",
        "['RPG', 14000, 25000], \n",
        "['Sandbox', 15500, 27000], \n",
        "['Open-World', 16500, 30000], \n",
        "['MMOFPS', 25000, 52000], \n",
        "['MMORPG', 30000, 80000] \n",
        "]) \n",
        "\n",
        "# print the dataset \n",
        "# print(dataset) \n",
        "\n",
        "# select all rows by : and column 1 \n",
        "# by 1:2 representing features \n",
        "X = dataset[:, 1:2].astype(int) \n",
        "\n",
        "# print X \n",
        "# print(X) \n",
        "\n",
        "# select all rows by : and column 2 \n",
        "# by 2 to Y representing labels \n",
        "y = dataset[:, 2].astype(int) \n",
        "\n",
        "# print y \n",
        "# print(y) \n",
        "\n",
        "# import the regressor \n",
        "from sklearn.tree import DecisionTreeRegressor \n",
        "\n",
        "# create a regressor object \n",
        "regressor = DecisionTreeRegressor(random_state = 0) \n",
        "\n",
        "# fit the regressor with X and Y data \n",
        "regressor.fit(X, y) \n",
        "\n",
        "# predicting a new value \n",
        "\n",
        "# test the output by changing values, like 3750 \n",
        "y_pred = regressor.predict(np.array(3750).reshape(-1,1)) \n",
        "\n",
        "# print the predicted price \n",
        "# print(\"Predicted price: % d\\n\"% y_pred) \n",
        "\n",
        "# arange for creating a range of values \n",
        "# from min value of X to max value of X \n",
        "# with a difference of 0.01 between two \n",
        "# consecutive values \n",
        "X_grid = np.arange(min(X), max(X), 0.01) \n",
        "\n",
        "# reshape for reshaping the data into \n",
        "# a len(X_grid)*1 array, i.e. to make \n",
        "# a column out of the X_grid values \n",
        "X_grid = X_grid.reshape((len(X_grid), 1)) \n",
        "\n",
        "# scatter plot for original data \n",
        "plt.scatter(X, y, color = 'red') \n",
        "\n",
        "# plot predicted data \n",
        "plt.plot(X_grid, regressor.predict(X_grid), color = 'blue') \n",
        "\n",
        "# specify title \n",
        "plt.title('Profit to Production Cost (Decision Tree Regression)') \n",
        "\n",
        "# specify X axis label \n",
        "plt.xlabel('Production Cost') \n",
        "\n",
        "# specify Y axis label \n",
        "plt.ylabel('Profit') \n",
        "\n",
        "# show the plot \n",
        "plt.show() \n",
        "\n",
        "# import export_graphviz \n",
        "from sklearn.tree import export_graphviz \n",
        "\n",
        "# export the decision tree to a tree.dot file \n",
        "# for visualizing the plot easily anywhere \n",
        "export_graphviz(regressor, out_file ='tree.dot', \n",
        "\t\t\tfeature_names =['Production Cost']) \n"
      ],
      "execution_count": 0,
      "outputs": [
        {
          "output_type": "display_data",
          "data": {
            "image/png": "[encoded data removed]",
            "text/plain": [
              "<Figure size 432x288 with 1 Axes>"
            ]
          },
          "metadata": {
            "tags": []
          }
        }
      ]
    }
  ]
}